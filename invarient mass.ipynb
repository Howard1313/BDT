{
 "cells": [
  {
   "cell_type": "code",
   "execution_count": 30,
   "metadata": {},
   "outputs": [],
   "source": [
    "import uproot\n",
    "import numpy as np\n",
    "import pandas as pd\n",
    "import math\n",
    "import matplotlib.pyplot as plt\n",
    "import numpy as np\n",
    "import sys, os\n",
    "\n",
    "import matplotlib.pyplot as plt\n",
    "from matplotlib.ticker import MaxNLocator\n",
    "from matplotlib.colors import ListedColormap, LinearSegmentedColormap, BoundaryNorm\n",
    "from matplotlib.collections import LineCollection\n",
    "from matplotlib import cm"
   ]
  },
  {
   "cell_type": "code",
   "execution_count": 31,
   "metadata": {},
   "outputs": [],
   "source": [
    "class BranchJet:\n",
    "    def __init__(self,file):\n",
    "        self.file = file\n",
    "        self.length = len(file[\"Jet.PT\"].array())\n",
    "        self.PT = file[\"Jet.PT\"].array()\n",
    "        self.Eta =  file[\"Jet.Eta\"].array()\n",
    "        self.Phi = file[\"Jet.Phi\"].array()\n",
    "        self.Mass = file[\"Jet.Mass\"].array()\n",
    "        self.BTag = file[\"Jet.BTag\"].array()\n",
    "   \n",
    "    def BTag_At(self, i):\n",
    "        return self.BTag[i]        \n",
    "    def PT_At(self, i):\n",
    "        return self.PT[i]\n",
    "    def Eta_At(self, i):\n",
    "        return self.Eta[i]\n",
    "    def Phi_At(self, i):\n",
    "        return self.Phi[i]\n",
    "    def Mass_At(self, i):\n",
    "        return self.Mass[i]\n",
    "    def y_At(self, i):\n",
    "        pT=self.PT[i]\n",
    "        eta=self.Eta[i]\n",
    "        pz=pT*np.sinh(eta)\n",
    "        m=self.Mass[i]\n",
    "        E=np.sqrt(m*m+pz*pz+pT*pT)\n",
    "        \n",
    "        return np.log((E+pz)/np.sqrt(m*m+pT*pT))\n"
   ]
  },
  {
   "cell_type": "code",
   "execution_count": 53,
   "metadata": {},
   "outputs": [],
   "source": [
    "def P4(pt,eta,phi,m):\n",
    "    px, py, pz = pt*np.cos(phi), pt*np.sin(phi),pt*np.sinh(eta)\n",
    "    e = np.sqrt(m**2 + px**2 + py**2 + pz**2)\n",
    "    \n",
    "    return np.array([e,px,py,pz])"
   ]
  },
  {
   "cell_type": "code",
   "execution_count": 33,
   "metadata": {},
   "outputs": [],
   "source": [
    "def M(P4):\n",
    "    \n",
    "    return np.sqrt((P4[0])**2-(P4[1])**2-(P4[2])**2-(P4[3])**2)"
   ]
  },
  {
   "cell_type": "code",
   "execution_count": 115,
   "metadata": {},
   "outputs": [],
   "source": [
    "filepath = \"./hww.root\"\n",
    "\n",
    "file = uproot.open(filepath)[\"Delphes;1\"]"
   ]
  },
  {
   "cell_type": "code",
   "execution_count": 116,
   "metadata": {},
   "outputs": [],
   "source": [
    "Jet = BranchJet(file)"
   ]
  },
  {
   "cell_type": "code",
   "execution_count": 117,
   "metadata": {},
   "outputs": [
    {
     "name": "stdout",
     "output_type": "stream",
     "text": [
      "[4.195707]\n"
     ]
    }
   ],
   "source": [
    "print(Jet.Mass[0])\n"
   ]
  },
  {
   "cell_type": "code",
   "execution_count": 118,
   "metadata": {},
   "outputs": [],
   "source": [
    "M_4j=[]\n",
    "for i in range(Jet.length):\n",
    "    if len(Jet.PT_At(i)) < 4:\n",
    "        continue\n",
    "    P4_0=P4(Jet.PT[i][0],Jet.Eta[i][0],Jet.Phi[i][0],Jet.Mass[i][0])\n",
    "    P4_1=P4(Jet.PT[i][1],Jet.Eta[i][1],Jet.Phi[i][1],Jet.Mass[i][1])\n",
    "    P4_2=P4(Jet.PT[i][2],Jet.Eta[i][2],Jet.Phi[i][2],Jet.Mass[i][2])\n",
    "    P4_3=P4(Jet.PT[i][3],Jet.Eta[i][3],Jet.Phi[i][3],Jet.Mass[i][3])\n",
    "    P4_total=P4_0+P4_1+P4_2+P4_3\n",
    "    M_4j.append(M(P4_total))\n",
    "        "
   ]
  },
  {
   "cell_type": "code",
   "execution_count": 119,
   "metadata": {},
   "outputs": [
    {
     "name": "stdout",
     "output_type": "stream",
     "text": [
      "3705\n"
     ]
    }
   ],
   "source": [
    "print(len(M_4j))"
   ]
  },
  {
   "cell_type": "code",
   "execution_count": 120,
   "metadata": {},
   "outputs": [],
   "source": [
    "M_4j_hww = M_4j\n",
    "#M_4j_ppzz = M_4j\n",
    "#M_4j_ppww = M_4j\n",
    "#M_4j_pptt = M_4j\n",
    "#M_4j_pp4j = M_4j"
   ]
  },
  {
   "cell_type": "code",
   "execution_count": 121,
   "metadata": {},
   "outputs": [
    {
     "data": {
      "image/png": "[encoded data removed]",
      "text/plain": [
       "<Figure size 576x576 with 1 Axes>"
      ]
     },
     "metadata": {
      "needs_background": "light"
     },
     "output_type": "display_data"
    }
   ],
   "source": [
    "plt.figure(figsize=(8,8)) # plotsize\n",
    "bin_size = np.linspace(0,3000,101)\n",
    "\n",
    "hist_ggh, bins_ggh = np.histogram(M_4j_hww , bins=bin_size,density=True)\n",
    "plt.step(bins_ggh[:-1], hist_ggh.astype(np.float32), color = \"green\", where='mid',linewidth=3, alpha=0.7,label=\"hww\") \n",
    "hist_ggh, bins_ggh = np.histogram(M_4j_ppzz , bins=bin_size,density=True)\n",
    "plt.step(bins_ggh[:-1], hist_ggh.astype(np.float32), color = \"red\", where='mid',linewidth=3, alpha=0.7,label=\"ppzz\") \n",
    "hist_ggh, bins_ggh = np.histogram(M_4j_ppww , bins=bin_size,density=True)\n",
    "plt.step(bins_ggh[:-1], hist_ggh.astype(np.float32), color = \"blue\", where='mid',linewidth=3, alpha=0.7,label=\"ppww\") \n",
    "hist_ggh, bins_ggh = np.histogram(M_4j_pptt , bins=bin_size,density=True)\n",
    "plt.step(bins_ggh[:-1], hist_ggh.astype(np.float32), color = \"cyan\", where='mid',linewidth=3, alpha=0.7,label=\"pptt\") \n",
    "hist_ggh, bins_ggh = np.histogram(M_4j_pp4j , bins=bin_size,density=True)\n",
    "plt.step(bins_ggh[:-1], hist_ggh.astype(np.float32), color = \"yellow\", where='mid',linewidth=3, alpha=0.7,label=\"pp4j\") \n",
    "\n",
    "# plt.yscale('log') \n",
    "plt.xlabel(\"$M_{jj}$ [GeV]\" , fontsize=20, horizontalalignment='right',x=1)  # plot x-axis label\n",
    "plt.ylabel(\"probability\", fontsize=20, horizontalalignment='right',y=1)  # plot y-axis label\n",
    "plt.xticks(fontsize=15)   # set x-ticks size\n",
    "plt.yticks(fontsize=15)   # set y-ticks size \n",
    "plt.legend(bbox_to_anchor=(1, 1),ncol=1,fontsize=15) # plot label tag\n",
    "# plt.savefig(\"./invariant_mass_SVJ.png\")  #save figure as png\n",
    "plt.show()"
   ]
  },
  {
   "cell_type": "code",
   "execution_count": null,
   "metadata": {},
   "outputs": [],
   "source": []
  }
 ],
 "metadata": {
  "kernelspec": {
   "display_name": "Python 3",
   "language": "python",
   "name": "python3"
  },
  "language_info": {
   "codemirror_mode": {
    "name": "ipython",
    "version": 3
   },
   "file_extension": ".py",
   "mimetype": "text/x-python",
   "name": "python",
   "nbconvert_exporter": "python",
   "pygments_lexer": "ipython3",
   "version": "3.6.6"
  }
 },
 "nbformat": 4,
 "nbformat_minor": 2
}
